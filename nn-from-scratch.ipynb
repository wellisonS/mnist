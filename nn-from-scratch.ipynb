{
 "cells": [
  {
   "cell_type": "code",
   "execution_count": 1,
   "id": "3208737a",
   "metadata": {
    "_cell_guid": "b1076dfc-b9ad-4769-8c92-a6c4dae69d19",
    "_uuid": "8f2839f25d086af736a60e9eeb907d3b93b6e0e5",
    "execution": {
     "iopub.execute_input": "2023-06-26T23:05:35.322263Z",
     "iopub.status.busy": "2023-06-26T23:05:35.321164Z",
     "iopub.status.idle": "2023-06-26T23:05:35.337017Z",
     "shell.execute_reply": "2023-06-26T23:05:35.335695Z"
    },
    "papermill": {
     "duration": 0.02404,
     "end_time": "2023-06-26T23:05:35.339175",
     "exception": false,
     "start_time": "2023-06-26T23:05:35.315135",
     "status": "completed"
    },
    "tags": []
   },
   "outputs": [
    {
     "name": "stdout",
     "output_type": "stream",
     "text": [
      "/kaggle/input/digit-recognizer/sample_submission.csv\n",
      "/kaggle/input/digit-recognizer/train.csv\n",
      "/kaggle/input/digit-recognizer/test.csv\n"
     ]
    }
   ],
   "source": [
    "# This Python 3 environment comes with many helpful analytics libraries installed\n",
    "# It is defined by the kaggle/python Docker image: https://github.com/kaggle/docker-python\n",
    "# For example, here's several helpful packages to load\n",
    "\n",
    "import numpy as np # linear algebra\n",
    "import pandas as pd # data processing, CSV file I/O (e.g. pd.read_csv)\n",
    "\n",
    "# Input data files are available in the read-only \"../input/\" directory\n",
    "# For example, running this (by clicking run or pressing Shift+Enter) will list all files under the input directory\n",
    "\n",
    "import os\n",
    "for dirname, _, filenames in os.walk('/kaggle/input'):\n",
    "    for filename in filenames:\n",
    "        print(os.path.join(dirname, filename))\n",
    "\n",
    "# You can write up to 20GB to the current directory (/kaggle/working/) that gets preserved as output when you create a version using \"Save & Run All\" \n",
    "# You can also write temporary files to /kaggle/temp/, but they won't be saved outside of the current session"
   ]
  },
  {
   "cell_type": "code",
   "execution_count": 2,
   "id": "56100c43",
   "metadata": {
    "execution": {
     "iopub.execute_input": "2023-06-26T23:05:35.349046Z",
     "iopub.status.busy": "2023-06-26T23:05:35.347708Z",
     "iopub.status.idle": "2023-06-26T23:05:38.831759Z",
     "shell.execute_reply": "2023-06-26T23:05:38.830617Z"
    },
    "papermill": {
     "duration": 3.49122,
     "end_time": "2023-06-26T23:05:38.834201",
     "exception": false,
     "start_time": "2023-06-26T23:05:35.342981",
     "status": "completed"
    },
    "tags": []
   },
   "outputs": [
    {
     "data": {
      "text/html": [
       "<div>\n",
       "<style scoped>\n",
       "    .dataframe tbody tr th:only-of-type {\n",
       "        vertical-align: middle;\n",
       "    }\n",
       "\n",
       "    .dataframe tbody tr th {\n",
       "        vertical-align: top;\n",
       "    }\n",
       "\n",
       "    .dataframe thead th {\n",
       "        text-align: right;\n",
       "    }\n",
       "</style>\n",
       "<table border=\"1\" class=\"dataframe\">\n",
       "  <thead>\n",
       "    <tr style=\"text-align: right;\">\n",
       "      <th></th>\n",
       "      <th>label</th>\n",
       "      <th>pixel0</th>\n",
       "      <th>pixel1</th>\n",
       "      <th>pixel2</th>\n",
       "      <th>pixel3</th>\n",
       "      <th>pixel4</th>\n",
       "      <th>pixel5</th>\n",
       "      <th>pixel6</th>\n",
       "      <th>pixel7</th>\n",
       "      <th>pixel8</th>\n",
       "      <th>...</th>\n",
       "      <th>pixel774</th>\n",
       "      <th>pixel775</th>\n",
       "      <th>pixel776</th>\n",
       "      <th>pixel777</th>\n",
       "      <th>pixel778</th>\n",
       "      <th>pixel779</th>\n",
       "      <th>pixel780</th>\n",
       "      <th>pixel781</th>\n",
       "      <th>pixel782</th>\n",
       "      <th>pixel783</th>\n",
       "    </tr>\n",
       "  </thead>\n",
       "  <tbody>\n",
       "    <tr>\n",
       "      <th>0</th>\n",
       "      <td>1</td>\n",
       "      <td>0</td>\n",
       "      <td>0</td>\n",
       "      <td>0</td>\n",
       "      <td>0</td>\n",
       "      <td>0</td>\n",
       "      <td>0</td>\n",
       "      <td>0</td>\n",
       "      <td>0</td>\n",
       "      <td>0</td>\n",
       "      <td>...</td>\n",
       "      <td>0</td>\n",
       "      <td>0</td>\n",
       "      <td>0</td>\n",
       "      <td>0</td>\n",
       "      <td>0</td>\n",
       "      <td>0</td>\n",
       "      <td>0</td>\n",
       "      <td>0</td>\n",
       "      <td>0</td>\n",
       "      <td>0</td>\n",
       "    </tr>\n",
       "    <tr>\n",
       "      <th>1</th>\n",
       "      <td>0</td>\n",
       "      <td>0</td>\n",
       "      <td>0</td>\n",
       "      <td>0</td>\n",
       "      <td>0</td>\n",
       "      <td>0</td>\n",
       "      <td>0</td>\n",
       "      <td>0</td>\n",
       "      <td>0</td>\n",
       "      <td>0</td>\n",
       "      <td>...</td>\n",
       "      <td>0</td>\n",
       "      <td>0</td>\n",
       "      <td>0</td>\n",
       "      <td>0</td>\n",
       "      <td>0</td>\n",
       "      <td>0</td>\n",
       "      <td>0</td>\n",
       "      <td>0</td>\n",
       "      <td>0</td>\n",
       "      <td>0</td>\n",
       "    </tr>\n",
       "    <tr>\n",
       "      <th>2</th>\n",
       "      <td>1</td>\n",
       "      <td>0</td>\n",
       "      <td>0</td>\n",
       "      <td>0</td>\n",
       "      <td>0</td>\n",
       "      <td>0</td>\n",
       "      <td>0</td>\n",
       "      <td>0</td>\n",
       "      <td>0</td>\n",
       "      <td>0</td>\n",
       "      <td>...</td>\n",
       "      <td>0</td>\n",
       "      <td>0</td>\n",
       "      <td>0</td>\n",
       "      <td>0</td>\n",
       "      <td>0</td>\n",
       "      <td>0</td>\n",
       "      <td>0</td>\n",
       "      <td>0</td>\n",
       "      <td>0</td>\n",
       "      <td>0</td>\n",
       "    </tr>\n",
       "    <tr>\n",
       "      <th>3</th>\n",
       "      <td>4</td>\n",
       "      <td>0</td>\n",
       "      <td>0</td>\n",
       "      <td>0</td>\n",
       "      <td>0</td>\n",
       "      <td>0</td>\n",
       "      <td>0</td>\n",
       "      <td>0</td>\n",
       "      <td>0</td>\n",
       "      <td>0</td>\n",
       "      <td>...</td>\n",
       "      <td>0</td>\n",
       "      <td>0</td>\n",
       "      <td>0</td>\n",
       "      <td>0</td>\n",
       "      <td>0</td>\n",
       "      <td>0</td>\n",
       "      <td>0</td>\n",
       "      <td>0</td>\n",
       "      <td>0</td>\n",
       "      <td>0</td>\n",
       "    </tr>\n",
       "    <tr>\n",
       "      <th>4</th>\n",
       "      <td>0</td>\n",
       "      <td>0</td>\n",
       "      <td>0</td>\n",
       "      <td>0</td>\n",
       "      <td>0</td>\n",
       "      <td>0</td>\n",
       "      <td>0</td>\n",
       "      <td>0</td>\n",
       "      <td>0</td>\n",
       "      <td>0</td>\n",
       "      <td>...</td>\n",
       "      <td>0</td>\n",
       "      <td>0</td>\n",
       "      <td>0</td>\n",
       "      <td>0</td>\n",
       "      <td>0</td>\n",
       "      <td>0</td>\n",
       "      <td>0</td>\n",
       "      <td>0</td>\n",
       "      <td>0</td>\n",
       "      <td>0</td>\n",
       "    </tr>\n",
       "  </tbody>\n",
       "</table>\n",
       "<p>5 rows × 785 columns</p>\n",
       "</div>"
      ],
      "text/plain": [
       "   label  pixel0  pixel1  pixel2  pixel3  pixel4  pixel5  pixel6  pixel7  \\\n",
       "0      1       0       0       0       0       0       0       0       0   \n",
       "1      0       0       0       0       0       0       0       0       0   \n",
       "2      1       0       0       0       0       0       0       0       0   \n",
       "3      4       0       0       0       0       0       0       0       0   \n",
       "4      0       0       0       0       0       0       0       0       0   \n",
       "\n",
       "   pixel8  ...  pixel774  pixel775  pixel776  pixel777  pixel778  pixel779  \\\n",
       "0       0  ...         0         0         0         0         0         0   \n",
       "1       0  ...         0         0         0         0         0         0   \n",
       "2       0  ...         0         0         0         0         0         0   \n",
       "3       0  ...         0         0         0         0         0         0   \n",
       "4       0  ...         0         0         0         0         0         0   \n",
       "\n",
       "   pixel780  pixel781  pixel782  pixel783  \n",
       "0         0         0         0         0  \n",
       "1         0         0         0         0  \n",
       "2         0         0         0         0  \n",
       "3         0         0         0         0  \n",
       "4         0         0         0         0  \n",
       "\n",
       "[5 rows x 785 columns]"
      ]
     },
     "execution_count": 2,
     "metadata": {},
     "output_type": "execute_result"
    }
   ],
   "source": [
    "data = pd.read_csv('/kaggle/input/digit-recognizer/train.csv')\n",
    "data.head()"
   ]
  },
  {
   "cell_type": "code",
   "execution_count": 3,
   "id": "255849fe",
   "metadata": {
    "execution": {
     "iopub.execute_input": "2023-06-26T23:05:38.843780Z",
     "iopub.status.busy": "2023-06-26T23:05:38.843398Z",
     "iopub.status.idle": "2023-06-26T23:05:39.638999Z",
     "shell.execute_reply": "2023-06-26T23:05:39.637895Z"
    },
    "papermill": {
     "duration": 0.803648,
     "end_time": "2023-06-26T23:05:39.641756",
     "exception": false,
     "start_time": "2023-06-26T23:05:38.838108",
     "status": "completed"
    },
    "tags": []
   },
   "outputs": [],
   "source": [
    "data = np.array(data)\n",
    "m, n = data.shape\n",
    "np.random.shuffle(data) \n",
    "\n",
    "data_dev = data[0:1000].T\n",
    "Y_dev = data_dev[0]\n",
    "X_dev = data_dev[1:n]\n",
    "X_dev = X_dev / 255.\n",
    "\n",
    "data_train = data[1000:m].T\n",
    "Y_train = data_train[0]\n",
    "X_train = data_train[1:n]\n",
    "X_train = X_train / 255.\n",
    "_,m_train = X_train.shape"
   ]
  },
  {
   "cell_type": "code",
   "execution_count": 4,
   "id": "d650b28d",
   "metadata": {
    "execution": {
     "iopub.execute_input": "2023-06-26T23:05:39.652377Z",
     "iopub.status.busy": "2023-06-26T23:05:39.651961Z",
     "iopub.status.idle": "2023-06-26T23:05:39.659329Z",
     "shell.execute_reply": "2023-06-26T23:05:39.658144Z"
    },
    "papermill": {
     "duration": 0.014965,
     "end_time": "2023-06-26T23:05:39.661524",
     "exception": false,
     "start_time": "2023-06-26T23:05:39.646559",
     "status": "completed"
    },
    "tags": []
   },
   "outputs": [
    {
     "data": {
      "text/plain": [
       "array([8, 9, 6, ..., 5, 9, 0])"
      ]
     },
     "execution_count": 4,
     "metadata": {},
     "output_type": "execute_result"
    }
   ],
   "source": [
    "Y_train"
   ]
  },
  {
   "cell_type": "code",
   "execution_count": 5,
   "id": "118c0b1d",
   "metadata": {
    "execution": {
     "iopub.execute_input": "2023-06-26T23:05:39.671425Z",
     "iopub.status.busy": "2023-06-26T23:05:39.671002Z",
     "iopub.status.idle": "2023-06-26T23:05:39.682456Z",
     "shell.execute_reply": "2023-06-26T23:05:39.681279Z"
    },
    "papermill": {
     "duration": 0.019016,
     "end_time": "2023-06-26T23:05:39.684611",
     "exception": false,
     "start_time": "2023-06-26T23:05:39.665595",
     "status": "completed"
    },
    "tags": []
   },
   "outputs": [],
   "source": [
    "def init_params():\n",
    "    W1 = np.random.rand(10, 784) - 0.5\n",
    "    b1 = np.random.rand(10, 1) - 0.5\n",
    "    W2 = np.random.rand(10, 10) - 0.5\n",
    "    b2 = np.random.rand(10, 1) - 0.5\n",
    "    return W1, b1, W2, b2\n",
    "\n",
    "def ReLU(Z):\n",
    "    return np.maximum(Z, 0)\n",
    "\n",
    "def softmax(Z):\n",
    "    A = np.exp(Z) / sum(np.exp(Z))\n",
    "    return A\n",
    "    \n",
    "def forward_prop(W1, b1, W2, b2, X):\n",
    "    Z1 = W1.dot(X) + b1\n",
    "    A1 = ReLU(Z1)\n",
    "    Z2 = W2.dot(A1) + b2\n",
    "    A2 = softmax(Z2)\n",
    "    return Z1, A1, Z2, A2\n",
    "\n",
    "def ReLU_deriv(Z):\n",
    "    return Z > 0\n",
    "\n",
    "def one_hot(Y):\n",
    "    one_hot_Y = np.zeros((Y.size, Y.max() + 1))\n",
    "    one_hot_Y[np.arange(Y.size), Y] = 1\n",
    "    one_hot_Y = one_hot_Y.T\n",
    "    return one_hot_Y\n",
    "\n",
    "def backward_prop(Z1, A1, Z2, A2, W1, W2, X, Y):\n",
    "    one_hot_Y = one_hot(Y)\n",
    "    dZ2 = A2 - one_hot_Y\n",
    "    dW2 = 1 / m * dZ2.dot(A1.T)\n",
    "    db2 = 1 / m * np.sum(dZ2)\n",
    "    dZ1 = W2.T.dot(dZ2) * ReLU_deriv(Z1)\n",
    "    dW1 = 1 / m * dZ1.dot(X.T)\n",
    "    db1 = 1 / m * np.sum(dZ1)\n",
    "    return dW1, db1, dW2, db2\n",
    "\n",
    "def update_params(W1, b1, W2, b2, dW1, db1, dW2, db2, alpha):\n",
    "    W1 = W1 - alpha * dW1\n",
    "    b1 = b1 - alpha * db1    \n",
    "    W2 = W2 - alpha * dW2  \n",
    "    b2 = b2 - alpha * db2    \n",
    "    return W1, b1, W2, b2"
   ]
  },
  {
   "cell_type": "code",
   "execution_count": 6,
   "id": "baa1690d",
   "metadata": {
    "execution": {
     "iopub.execute_input": "2023-06-26T23:05:39.694261Z",
     "iopub.status.busy": "2023-06-26T23:05:39.693873Z",
     "iopub.status.idle": "2023-06-26T23:05:39.701671Z",
     "shell.execute_reply": "2023-06-26T23:05:39.700524Z"
    },
    "papermill": {
     "duration": 0.01519,
     "end_time": "2023-06-26T23:05:39.703890",
     "exception": false,
     "start_time": "2023-06-26T23:05:39.688700",
     "status": "completed"
    },
    "tags": []
   },
   "outputs": [],
   "source": [
    "def get_predictions(A2):\n",
    "    return np.argmax(A2, 0)\n",
    "\n",
    "def get_accuracy(predictions, Y):\n",
    "    print(predictions, Y)\n",
    "    return np.sum(predictions == Y) / Y.size\n",
    "\n",
    "def gradient_descent(X, Y, alpha, iterations):\n",
    "    W1, b1, W2, b2 = init_params()\n",
    "    for i in range(iterations):\n",
    "        Z1, A1, Z2, A2 = forward_prop(W1, b1, W2, b2, X)\n",
    "        dW1, db1, dW2, db2 = backward_prop(Z1, A1, Z2, A2, W1, W2, X, Y)\n",
    "        W1, b1, W2, b2 = update_params(W1, b1, W2, b2, dW1, db1, dW2, db2, alpha)\n",
    "        if i % 10 == 0:\n",
    "            print(\"Iteration: \", i)\n",
    "            predictions = get_predictions(A2)\n",
    "            print(get_accuracy(predictions, Y))\n",
    "    return W1, b1, W2, b2"
   ]
  },
  {
   "cell_type": "code",
   "execution_count": 7,
   "id": "78cccabe",
   "metadata": {
    "execution": {
     "iopub.execute_input": "2023-06-26T23:05:39.713707Z",
     "iopub.status.busy": "2023-06-26T23:05:39.713351Z",
     "iopub.status.idle": "2023-06-26T23:06:46.524112Z",
     "shell.execute_reply": "2023-06-26T23:06:46.522802Z"
    },
    "papermill": {
     "duration": 66.819487,
     "end_time": "2023-06-26T23:06:46.527468",
     "exception": false,
     "start_time": "2023-06-26T23:05:39.707981",
     "status": "completed"
    },
    "tags": []
   },
   "outputs": [
    {
     "name": "stdout",
     "output_type": "stream",
     "text": [
      "Iteration:  0\n",
      "[8 8 2 ... 1 2 1] [8 9 6 ... 5 9 0]\n",
      "0.07192682926829268\n",
      "Iteration:  10\n",
      "[8 3 2 ... 1 2 1] [8 9 6 ... 5 9 0]\n",
      "0.13775609756097562\n",
      "Iteration:  20\n",
      "[4 3 2 ... 1 2 1] [8 9 6 ... 5 9 0]\n",
      "0.226\n",
      "Iteration:  30\n",
      "[0 3 2 ... 1 2 1] [8 9 6 ... 5 9 0]\n",
      "0.30629268292682926\n",
      "Iteration:  40\n",
      "[0 3 2 ... 1 2 1] [8 9 6 ... 5 9 0]\n",
      "0.36402439024390243\n",
      "Iteration:  50\n",
      "[0 3 2 ... 1 2 1] [8 9 6 ... 5 9 0]\n",
      "0.40331707317073173\n",
      "Iteration:  60\n",
      "[0 3 5 ... 1 9 1] [8 9 6 ... 5 9 0]\n",
      "0.4375121951219512\n",
      "Iteration:  70\n",
      "[0 0 5 ... 0 9 1] [8 9 6 ... 5 9 0]\n",
      "0.4665365853658537\n",
      "Iteration:  80\n",
      "[0 2 5 ... 0 9 1] [8 9 6 ... 5 9 0]\n",
      "0.4932682926829268\n",
      "Iteration:  90\n",
      "[0 2 1 ... 0 9 1] [8 9 6 ... 5 9 0]\n",
      "0.517219512195122\n",
      "Iteration:  100\n",
      "[0 2 1 ... 0 9 8] [8 9 6 ... 5 9 0]\n",
      "0.539219512195122\n",
      "Iteration:  110\n",
      "[0 2 1 ... 0 9 0] [8 9 6 ... 5 9 0]\n",
      "0.5568536585365854\n",
      "Iteration:  120\n",
      "[0 2 1 ... 0 9 0] [8 9 6 ... 5 9 0]\n",
      "0.5737073170731707\n",
      "Iteration:  130\n",
      "[0 2 1 ... 0 9 0] [8 9 6 ... 5 9 0]\n",
      "0.5889024390243902\n",
      "Iteration:  140\n",
      "[0 2 1 ... 0 9 0] [8 9 6 ... 5 9 0]\n",
      "0.6034390243902439\n",
      "Iteration:  150\n",
      "[0 2 6 ... 0 9 0] [8 9 6 ... 5 9 0]\n",
      "0.6166829268292683\n",
      "Iteration:  160\n",
      "[0 2 6 ... 0 9 0] [8 9 6 ... 5 9 0]\n",
      "0.629780487804878\n",
      "Iteration:  170\n",
      "[0 2 6 ... 0 9 0] [8 9 6 ... 5 9 0]\n",
      "0.6430975609756098\n",
      "Iteration:  180\n",
      "[0 2 6 ... 0 9 0] [8 9 6 ... 5 9 0]\n",
      "0.6558048780487805\n",
      "Iteration:  190\n",
      "[0 2 6 ... 0 9 0] [8 9 6 ... 5 9 0]\n",
      "0.6682682926829269\n",
      "Iteration:  200\n",
      "[8 2 6 ... 0 9 0] [8 9 6 ... 5 9 0]\n",
      "0.6796585365853659\n",
      "Iteration:  210\n",
      "[8 2 6 ... 0 9 0] [8 9 6 ... 5 9 0]\n",
      "0.6900975609756097\n",
      "Iteration:  220\n",
      "[8 2 6 ... 0 9 0] [8 9 6 ... 5 9 0]\n",
      "0.7005853658536585\n",
      "Iteration:  230\n",
      "[8 2 6 ... 0 9 0] [8 9 6 ... 5 9 0]\n",
      "0.7094634146341463\n",
      "Iteration:  240\n",
      "[8 2 6 ... 0 9 0] [8 9 6 ... 5 9 0]\n",
      "0.7187317073170731\n",
      "Iteration:  250\n",
      "[8 2 6 ... 0 9 0] [8 9 6 ... 5 9 0]\n",
      "0.7259512195121951\n",
      "Iteration:  260\n",
      "[8 2 6 ... 0 9 0] [8 9 6 ... 5 9 0]\n",
      "0.7330487804878049\n",
      "Iteration:  270\n",
      "[8 2 6 ... 0 9 0] [8 9 6 ... 5 9 0]\n",
      "0.7395609756097561\n",
      "Iteration:  280\n",
      "[8 2 6 ... 0 9 0] [8 9 6 ... 5 9 0]\n",
      "0.7461219512195122\n",
      "Iteration:  290\n",
      "[8 2 6 ... 5 9 0] [8 9 6 ... 5 9 0]\n",
      "0.7521463414634146\n",
      "Iteration:  300\n",
      "[8 2 6 ... 5 9 0] [8 9 6 ... 5 9 0]\n",
      "0.7574146341463415\n",
      "Iteration:  310\n",
      "[8 2 6 ... 5 9 0] [8 9 6 ... 5 9 0]\n",
      "0.7621951219512195\n",
      "Iteration:  320\n",
      "[8 2 6 ... 5 9 0] [8 9 6 ... 5 9 0]\n",
      "0.7669512195121951\n",
      "Iteration:  330\n",
      "[8 2 6 ... 5 9 0] [8 9 6 ... 5 9 0]\n",
      "0.771609756097561\n",
      "Iteration:  340\n",
      "[8 2 6 ... 5 9 0] [8 9 6 ... 5 9 0]\n",
      "0.7757073170731708\n",
      "Iteration:  350\n",
      "[8 4 6 ... 5 9 0] [8 9 6 ... 5 9 0]\n",
      "0.7807317073170732\n",
      "Iteration:  360\n",
      "[8 4 6 ... 5 9 0] [8 9 6 ... 5 9 0]\n",
      "0.784609756097561\n",
      "Iteration:  370\n",
      "[8 4 6 ... 5 9 0] [8 9 6 ... 5 9 0]\n",
      "0.7879512195121952\n",
      "Iteration:  380\n",
      "[8 4 6 ... 5 9 0] [8 9 6 ... 5 9 0]\n",
      "0.7913170731707317\n",
      "Iteration:  390\n",
      "[8 4 6 ... 5 9 0] [8 9 6 ... 5 9 0]\n",
      "0.794219512195122\n",
      "Iteration:  400\n",
      "[8 4 6 ... 5 9 0] [8 9 6 ... 5 9 0]\n",
      "0.7973902439024391\n",
      "Iteration:  410\n",
      "[8 4 6 ... 5 9 0] [8 9 6 ... 5 9 0]\n",
      "0.800609756097561\n",
      "Iteration:  420\n",
      "[8 4 6 ... 5 9 0] [8 9 6 ... 5 9 0]\n",
      "0.8037804878048781\n",
      "Iteration:  430\n",
      "[8 4 6 ... 5 9 0] [8 9 6 ... 5 9 0]\n",
      "0.8071463414634147\n",
      "Iteration:  440\n",
      "[8 4 6 ... 5 9 0] [8 9 6 ... 5 9 0]\n",
      "0.8093170731707318\n",
      "Iteration:  450\n",
      "[8 4 6 ... 5 9 0] [8 9 6 ... 5 9 0]\n",
      "0.8116341463414635\n",
      "Iteration:  460\n",
      "[8 9 6 ... 5 9 0] [8 9 6 ... 5 9 0]\n",
      "0.8135121951219512\n",
      "Iteration:  470\n",
      "[8 9 6 ... 5 9 0] [8 9 6 ... 5 9 0]\n",
      "0.8155853658536585\n",
      "Iteration:  480\n",
      "[8 9 6 ... 5 9 0] [8 9 6 ... 5 9 0]\n",
      "0.817390243902439\n",
      "Iteration:  490\n",
      "[8 9 6 ... 5 9 0] [8 9 6 ... 5 9 0]\n",
      "0.8195121951219512\n"
     ]
    }
   ],
   "source": [
    "W1, b1, W2, b2 = gradient_descent(X_train, Y_train, 0.10, 500)"
   ]
  },
  {
   "cell_type": "code",
   "execution_count": 8,
   "id": "3c9c3c48",
   "metadata": {
    "execution": {
     "iopub.execute_input": "2023-06-26T23:06:46.553151Z",
     "iopub.status.busy": "2023-06-26T23:06:46.552555Z",
     "iopub.status.idle": "2023-06-26T23:06:46.560429Z",
     "shell.execute_reply": "2023-06-26T23:06:46.559247Z"
    },
    "papermill": {
     "duration": 0.024548,
     "end_time": "2023-06-26T23:06:46.563845",
     "exception": false,
     "start_time": "2023-06-26T23:06:46.539297",
     "status": "completed"
    },
    "tags": []
   },
   "outputs": [],
   "source": [
    "from matplotlib import pyplot as plt"
   ]
  },
  {
   "cell_type": "code",
   "execution_count": 9,
   "id": "a2af07ab",
   "metadata": {
    "execution": {
     "iopub.execute_input": "2023-06-26T23:06:46.589165Z",
     "iopub.status.busy": "2023-06-26T23:06:46.588596Z",
     "iopub.status.idle": "2023-06-26T23:06:46.600427Z",
     "shell.execute_reply": "2023-06-26T23:06:46.598846Z"
    },
    "papermill": {
     "duration": 0.029711,
     "end_time": "2023-06-26T23:06:46.605080",
     "exception": false,
     "start_time": "2023-06-26T23:06:46.575369",
     "status": "completed"
    },
    "tags": []
   },
   "outputs": [],
   "source": [
    "def make_predictions(X, W1, b1, W2, b2):\n",
    "    _, _, _, A2 = forward_prop(W1, b1, W2, b2, X)\n",
    "    predictions = get_predictions(A2)\n",
    "    return predictions\n",
    "\n",
    "def test_prediction(index, W1, b1, W2, b2):\n",
    "    current_image = X_train[:, index, None]\n",
    "    prediction = make_predictions(X_train[:, index, None], W1, b1, W2, b2)\n",
    "    label = Y_train[index]\n",
    "    print(\"Prediction: \", prediction)\n",
    "    print(\"Label: \", label)\n",
    "    \n",
    "    current_image = current_image.reshape((28, 28)) * 255\n",
    "    plt.gray()\n",
    "    plt.imshow(current_image, interpolation='nearest')\n",
    "    plt.show()"
   ]
  },
  {
   "cell_type": "code",
   "execution_count": 10,
   "id": "76ac5406",
   "metadata": {
    "execution": {
     "iopub.execute_input": "2023-06-26T23:06:46.630580Z",
     "iopub.status.busy": "2023-06-26T23:06:46.629865Z",
     "iopub.status.idle": "2023-06-26T23:06:47.319981Z",
     "shell.execute_reply": "2023-06-26T23:06:47.318811Z"
    },
    "papermill": {
     "duration": 0.705641,
     "end_time": "2023-06-26T23:06:47.322288",
     "exception": false,
     "start_time": "2023-06-26T23:06:46.616647",
     "status": "completed"
    },
    "tags": []
   },
   "outputs": [
    {
     "name": "stdout",
     "output_type": "stream",
     "text": [
      "Prediction:  [8]\n",
      "Label:  8\n"
     ]
    },
    {
     "data": {
      "image/png": "[encoded data removed]",
      "text/plain": [
       "<Figure size 640x480 with 1 Axes>"
      ]
     },
     "metadata": {},
     "output_type": "display_data"
    },
    {
     "name": "stdout",
     "output_type": "stream",
     "text": [
      "Prediction:  [9]\n",
      "Label:  9\n"
     ]
    },
    {
     "data": {
      "image/png": "[encoded data removed]",
      "text/plain": [
       "<Figure size 640x480 with 1 Axes>"
      ]
     },
     "metadata": {},
     "output_type": "display_data"
    },
    {
     "name": "stdout",
     "output_type": "stream",
     "text": [
      "Prediction:  [6]\n",
      "Label:  6\n"
     ]
    },
    {
     "data": {
      "image/png": "[encoded data removed]",
      "text/plain": [
       "<Figure size 640x480 with 1 Axes>"
      ]
     },
     "metadata": {},
     "output_type": "display_data"
    },
    {
     "name": "stdout",
     "output_type": "stream",
     "text": [
      "Prediction:  [6]\n",
      "Label:  6\n"
     ]
    },
    {
     "data": {
      "image/png": "[encoded data removed]",
      "text/plain": [
       "<Figure size 640x480 with 1 Axes>"
      ]
     },
     "metadata": {},
     "output_type": "display_data"
    }
   ],
   "source": [
    "test_prediction(0, W1, b1, W2, b2)\n",
    "test_prediction(1, W1, b1, W2, b2)\n",
    "test_prediction(2, W1, b1, W2, b2)\n",
    "test_prediction(3, W1, b1, W2, b2)"
   ]
  },
  {
   "cell_type": "code",
   "execution_count": 11,
   "id": "82b4b959",
   "metadata": {
    "execution": {
     "iopub.execute_input": "2023-06-26T23:06:47.340364Z",
     "iopub.status.busy": "2023-06-26T23:06:47.339970Z",
     "iopub.status.idle": "2023-06-26T23:06:47.370535Z",
     "shell.execute_reply": "2023-06-26T23:06:47.369402Z"
    },
    "papermill": {
     "duration": 0.043649,
     "end_time": "2023-06-26T23:06:47.374094",
     "exception": false,
     "start_time": "2023-06-26T23:06:47.330445",
     "status": "completed"
    },
    "tags": []
   },
   "outputs": [
    {
     "name": "stdout",
     "output_type": "stream",
     "text": [
      "[0 7 2 1 1 7 3 2 7 1 8 2 2 2 9 3 1 4 3 3 5 5 9 3 2 6 9 6 9 4 1 4 1 0 6 3 0\n",
      " 8 5 5 7 4 5 7 0 2 7 5 6 0 2 0 8 8 1 2 4 3 9 1 3 8 5 4 7 8 1 8 4 5 7 7 0 2\n",
      " 4 7 1 6 7 6 0 9 0 1 3 7 8 0 9 6 6 5 9 3 1 9 9 0 3 8 3 8 9 6 6 7 7 1 8 5 2\n",
      " 2 9 9 6 8 1 1 8 5 0 0 7 8 1 9 7 9 2 1 3 2 3 8 4 5 7 2 8 9 0 4 5 1 3 1 9 7\n",
      " 1 4 5 7 2 0 5 4 5 8 7 4 3 0 6 1 3 0 6 5 6 8 2 6 9 3 2 6 7 4 1 5 1 6 1 3 0\n",
      " 4 9 2 5 9 7 4 1 7 6 8 1 8 8 1 7 0 3 7 1 1 2 2 3 6 0 7 5 5 3 9 0 1 1 6 7 9\n",
      " 9 1 0 9 6 7 2 2 2 3 7 2 8 8 0 0 4 6 5 9 9 6 1 1 6 4 2 8 2 5 1 4 4 9 0 5 5\n",
      " 5 7 6 9 4 8 0 8 4 5 7 0 8 9 6 4 1 1 5 6 5 3 1 5 8 7 6 3 7 3 6 9 7 1 8 1 7\n",
      " 3 1 3 9 9 5 2 4 2 9 2 1 9 2 7 9 7 6 8 5 0 9 6 0 1 3 4 1 0 4 7 1 4 8 2 6 6\n",
      " 7 0 6 6 5 7 6 4 1 7 7 8 1 7 7 9 0 1 4 7 9 4 5 3 8 5 1 8 7 6 7 1 0 4 1 2 1\n",
      " 6 2 9 1 6 2 8 9 0 3 7 9 8 7 0 7 5 0 2 9 6 0 5 3 3 9 3 2 7 3 7 0 6 9 4 8 5\n",
      " 9 2 6 7 0 9 6 4 7 3 7 1 4 6 6 9 0 6 5 2 8 0 6 0 1 7 6 7 6 8 3 3 8 9 7 4 3\n",
      " 9 9 3 9 6 4 1 2 2 6 6 0 3 9 5 6 2 9 0 5 0 3 5 7 5 2 7 9 0 7 7 0 2 0 2 5 0\n",
      " 4 9 1 5 6 0 6 9 6 6 0 4 8 5 8 0 6 1 3 8 4 5 4 1 5 2 7 6 8 8 4 5 1 7 1 8 6\n",
      " 8 7 9 2 1 2 8 2 4 3 9 1 3 3 9 8 1 7 3 3 1 8 9 6 7 4 6 2 7 4 5 5 9 1 0 9 3\n",
      " 5 6 0 7 2 1 1 7 2 9 3 7 0 8 3 0 2 8 8 7 7 1 5 0 5 1 5 1 3 1 2 5 1 5 9 3 4\n",
      " 6 2 6 2 8 1 9 8 2 7 5 2 2 6 2 3 1 3 9 1 8 3 7 1 9 1 2 3 4 7 2 5 9 3 6 1 4\n",
      " 2 3 9 8 1 3 6 3 9 3 0 7 6 5 6 7 7 3 4 7 2 7 8 4 3 1 7 3 2 4 3 0 2 6 6 0 1\n",
      " 8 1 3 6 7 8 8 5 1 2 4 6 3 7 8 5 1 8 0 5 0 5 5 1 1 6 0 0 7 1 0 8 1 3 6 3 8\n",
      " 1 4 1 4 3 9 7 2 1 5 7 7 1 1 1 3 4 8 4 8 2 6 7 4 3 3 5 2 1 5 0 9 6 9 3 6 7\n",
      " 9 1 2 7 8 6 6 8 4 3 5 9 9 5 1 9 5 5 4 8 1 7 7 3 3 1 6 8 2 1 8 3 7 9 3 2 9\n",
      " 1 1 0 9 4 8 2 6 8 9 2 6 6 1 3 4 7 4 2 0 5 5 1 9 9 7 9 5 3 2 6 7 8 2 7 6 7\n",
      " 0 8 2 3 9 5 2 2 1 1 5 0 5 7 7 0 7 4 5 4 1 3 7 8 0 3 6 6 7 3 0 1 4 1 7 7 1\n",
      " 9 4 6 2 9 9 5 9 9 1 7 3 3 1 1 0 3 1 3 1 9 9 0 1 7 5 3 5 2 7 6 5 7 1 1 1 2\n",
      " 5 4 9 0 8 5 1 6 5 4 4 3 2 0 7 6 6 5 0 2 6 9 5 5 4 6 3 9 6 8 3 0 9 4 6 3 1\n",
      " 5 6 6 9 1 8 1 2 3 3 9 1 9 7 1 7 8 5 8 4 8 9 3 4 5 2 0 3 0 2 7 9 1 4 3 3 5\n",
      " 7 6 3 8 7 4 5 0 5 1 8 4 4 8 2 8 7 6 3 7 1 7 0 0 7 5 2 7 1 0 0 6 7 8 9 2 9\n",
      " 2] [0 7 2 1 1 7 3 2 7 2 5 2 2 2 4 3 1 8 3 3 5 5 9 3 7 6 9 6 3 4 1 4 1 0 6 3 0\n",
      " 8 5 5 7 4 3 7 0 3 7 8 6 4 2 0 1 5 1 9 9 3 9 1 5 2 5 4 7 8 1 8 4 5 2 7 0 2\n",
      " 4 7 1 6 7 6 0 7 0 1 3 7 2 0 9 6 6 5 5 3 1 9 9 0 2 8 3 8 9 5 6 7 7 1 8 5 2\n",
      " 5 9 4 6 8 1 1 5 0 0 0 7 8 8 9 7 9 2 1 3 2 3 8 4 5 7 2 8 9 0 6 3 1 5 1 9 7\n",
      " 1 6 5 7 8 0 5 4 3 8 7 4 2 0 6 1 3 0 6 5 6 8 2 6 4 3 4 6 3 4 1 5 1 6 1 3 0\n",
      " 9 6 2 5 9 7 4 1 7 5 8 1 8 9 1 7 0 5 7 1 1 2 2 3 6 0 7 8 5 3 9 0 1 1 6 7 9\n",
      " 4 1 0 9 6 7 6 2 3 3 7 2 8 8 0 0 4 6 5 9 9 6 1 1 6 4 2 5 2 8 1 2 4 9 0 5 8\n",
      " 5 7 6 9 4 8 0 8 4 3 7 0 8 4 6 4 1 1 5 6 5 3 1 9 8 7 6 5 5 3 5 9 7 1 8 1 7\n",
      " 3 1 3 9 9 5 5 9 2 9 6 8 9 3 7 4 7 4 8 8 0 2 6 0 1 5 4 1 0 4 9 1 9 5 2 6 6\n",
      " 7 0 6 6 5 7 8 4 1 7 9 8 1 5 7 9 0 3 9 7 9 4 5 3 8 5 1 8 7 6 7 1 0 4 1 2 1\n",
      " 6 2 4 1 6 2 8 9 0 3 7 9 8 7 0 7 5 0 2 9 6 0 5 0 3 9 3 2 7 2 7 0 6 9 4 8 5\n",
      " 4 2 6 7 0 9 6 4 7 3 7 1 4 6 6 9 0 6 5 5 3 0 6 0 1 5 6 7 6 4 3 3 5 9 7 4 3\n",
      " 9 4 3 7 6 4 5 2 2 6 6 0 3 9 5 6 1 7 0 5 0 3 5 7 5 2 3 9 0 7 7 0 2 0 2 5 0\n",
      " 4 9 1 5 8 0 6 8 6 6 0 4 8 5 8 9 6 5 3 8 2 5 9 1 3 2 7 6 8 5 4 5 1 7 9 8 6\n",
      " 8 7 9 2 1 2 8 3 4 3 9 1 3 3 9 2 1 0 8 3 1 8 7 6 7 4 4 2 7 4 6 5 9 1 0 4 5\n",
      " 5 6 0 7 2 1 1 7 5 9 5 7 0 8 7 0 3 8 8 9 7 1 5 0 5 1 3 1 3 1 2 5 1 5 4 3 2\n",
      " 6 2 4 2 8 1 9 8 2 7 5 7 2 6 2 3 8 3 9 1 8 8 7 1 9 1 8 3 4 7 7 5 9 3 6 1 4\n",
      " 2 3 9 1 1 2 6 3 9 3 0 7 6 5 6 7 7 3 9 7 2 7 4 4 3 1 7 3 2 4 3 0 6 6 6 0 1\n",
      " 8 1 3 6 7 6 8 5 1 2 4 6 3 7 0 5 1 8 0 5 0 5 2 1 1 6 0 5 7 1 0 3 1 3 6 3 8\n",
      " 1 4 1 9 3 9 7 2 1 5 7 7 1 1 1 3 4 4 9 8 8 6 7 6 3 3 6 2 1 5 0 9 6 4 8 6 7\n",
      " 9 1 2 7 8 6 6 8 4 3 5 9 9 5 1 9 5 5 4 8 1 7 7 3 3 1 6 8 2 1 8 2 9 9 5 2 7\n",
      " 1 1 0 4 4 1 2 6 8 5 2 6 6 1 3 4 7 4 2 0 5 5 1 9 9 5 4 3 5 2 6 7 5 2 7 6 7\n",
      " 0 5 2 3 9 8 2 3 1 1 5 0 5 7 7 0 7 9 5 4 7 3 9 3 0 3 4 6 7 3 7 1 4 1 7 7 1\n",
      " 9 4 6 2 9 4 3 9 3 1 7 3 3 1 1 0 3 1 3 1 4 4 0 8 9 5 3 5 5 9 6 5 7 1 1 1 2\n",
      " 8 4 9 0 5 5 2 6 5 4 4 2 7 0 7 5 6 5 0 2 2 9 5 5 4 6 5 9 4 1 3 0 9 4 6 9 1\n",
      " 5 6 6 4 1 8 1 2 3 3 9 1 8 7 1 7 8 5 8 4 4 9 3 4 5 2 0 3 0 3 7 9 1 4 5 3 0\n",
      " 7 6 3 8 7 4 5 0 5 1 2 4 4 8 2 1 9 6 5 7 1 3 0 0 7 8 2 7 1 0 5 6 7 8 7 3 9\n",
      " 2]\n"
     ]
    },
    {
     "data": {
      "text/plain": [
       "0.805"
      ]
     },
     "execution_count": 11,
     "metadata": {},
     "output_type": "execute_result"
    }
   ],
   "source": [
    "dev_predictions = make_predictions(X_dev, W1, b1, W2, b2)\n",
    "get_accuracy(dev_predictions, Y_dev)"
   ]
  }
 ],
 "metadata": {
  "kernelspec": {
   "display_name": "Python 3",
   "language": "python",
   "name": "python3"
  },
  "language_info": {
   "codemirror_mode": {
    "name": "ipython",
    "version": 3
   },
   "file_extension": ".py",
   "mimetype": "text/x-python",
   "name": "python",
   "nbconvert_exporter": "python",
   "pygments_lexer": "ipython3",
   "version": "3.10.10"
  },
  "papermill": {
   "default_parameters": {},
   "duration": 85.591351,
   "end_time": "2023-06-26T23:06:50.437239",
   "environment_variables": {},
   "exception": null,
   "input_path": "__notebook__.ipynb",
   "output_path": "__notebook__.ipynb",
   "parameters": {},
   "start_time": "2023-06-26T23:05:24.845888",
   "version": "2.4.0"
  }
 },
 "nbformat": 4,
 "nbformat_minor": 5
}
